{
 "cells": [
  {
   "cell_type": "code",
   "execution_count": 1,
   "metadata": {},
   "outputs": [],
   "source": [
    "from flask import Flask, render_template, request, redirect, url_for, jsonify\n",
    "\n",
    "app = Flask(__name__)\n",
    "\n",
    "from flask_sqlalchemy import SQLAlchemy\n",
    "from sqlalchemy import create_engine\n",
    "from sqlalchemy.orm import sessionmaker\n",
    "from flask import session\n",
    "import pandas as pd\n",
    "import matplotlib.pyplot as plt\n",
    "from datetime import datetime\n"
   ]
  },
  {
   "cell_type": "code",
   "execution_count": 2,
   "metadata": {
    "scrolled": true
   },
   "outputs": [
    {
     "name": "stderr",
     "output_type": "stream",
     "text": [
      "C:\\ProgramData\\Anaconda3\\lib\\site-packages\\flask_sqlalchemy\\__init__.py:835: FSADeprecationWarning: SQLALCHEMY_TRACK_MODIFICATIONS adds significant overhead and will be disabled by default in the future.  Set it to True or False to suppress this warning.\n",
      "  'SQLALCHEMY_TRACK_MODIFICATIONS adds significant overhead and '\n"
     ]
    }
   ],
   "source": [
    "app.config['SQLALCHEMY_DATABASE_URI'] = 'mysql://root@localhost:3306/student_information'\n",
    "db = SQLAlchemy(app)"
   ]
  },
  {
   "cell_type": "code",
   "execution_count": 3,
   "metadata": {},
   "outputs": [],
   "source": [
    "class Example(db.Model):\n",
    "\t__tablename__ = 'student_information'\n",
    "\tid = db.Column(\"student_id\", db.Integer, primary_key=True)\n",
    "\tfirst_name = db.Column('first_name', db.Unicode)\n",
    "\tlast_name = db.Column('last_name',db.Unicode)\n",
    "\tdob = db.Column('dob', db.DateTime, default=datetime)\n",
    "\tamount_due = db.Column('amount_due', db.Integer)\n",
    "    \n"
   ]
  },
  {
   "cell_type": "code",
   "execution_count": 4,
   "metadata": {},
   "outputs": [],
   "source": [
    "@app.route('/student_information')\n",
    "def showstud():\n",
    "    student_information = Example.query.all()\n",
    "    return render_template('student_information.html', student_information=student_information)\n"
   ]
  },
  {
   "cell_type": "code",
   "execution_count": null,
   "metadata": {},
   "outputs": [
    {
     "name": "stdout",
     "output_type": "stream",
     "text": [
      " * Serving Flask app \"__main__\" (lazy loading)\n",
      " * Environment: production\n",
      "   WARNING: This is a development server. Do not use it in a production deployment.\n",
      "   Use a production WSGI server instead.\n",
      " * Debug mode: off\n"
     ]
    },
    {
     "name": "stderr",
     "output_type": "stream",
     "text": [
      " * Running on http://127.0.0.1:5000/ (Press CTRL+C to quit)\n",
      "127.0.0.1 - - [28/Mar/2020 08:40:23] \"\u001b[33mGET / HTTP/1.1\u001b[0m\" 404 -\n",
      "127.0.0.1 - - [28/Mar/2020 08:40:25] \"\u001b[33mGET / HTTP/1.1\u001b[0m\" 404 -\n",
      "127.0.0.1 - - [28/Mar/2020 08:40:26] \"\u001b[33mGET / HTTP/1.1\u001b[0m\" 404 -\n",
      "127.0.0.1 - - [28/Mar/2020 08:40:26] \"\u001b[33mGET / HTTP/1.1\u001b[0m\" 404 -\n",
      "127.0.0.1 - - [28/Mar/2020 08:40:27] \"\u001b[33mGET / HTTP/1.1\u001b[0m\" 404 -\n",
      "127.0.0.1 - - [28/Mar/2020 08:40:27] \"\u001b[33mGET / HTTP/1.1\u001b[0m\" 404 -\n",
      "127.0.0.1 - - [28/Mar/2020 08:40:27] \"\u001b[33mGET / HTTP/1.1\u001b[0m\" 404 -\n"
     ]
    }
   ],
   "source": [
    "\n",
    "# This will let us Create a new book and save it in our database\n",
    "@app.route('/student_information/new/', methods=['GET', 'POST'])\n",
    "def newstud():\n",
    "    if (request.method == 'POST'):\n",
    "        newstud = student_information(id=request.form['ID'],\n",
    "                       first_name=request.form['First Name'],\n",
    "                       last_name=request.form['Last Name'],\n",
    "                       dob=request.form['Date Of Birth'],\n",
    "                       amount_due=request.form['Amount Due'])\n",
    "        session.add(newstud)\n",
    "        session.commit()\n",
    "        return redirect(url_for('showstud'))\n",
    "    else:\n",
    "        return render_template('newstud.html')\n",
    "\n",
    "\n",
    "# This will let us Update our books and save it in our database\n",
    "@app.route(\"/student_information/<int:stud_id>/edit/\", methods=['GET', 'POST'])\n",
    "def editstud(id):\n",
    "    editedstud = session.query(student_information).filter_by(id=id).one()\n",
    "    if (request.method == 'POST'):\n",
    "        if request.form['ID']:\n",
    "            editedstud.student_id = request.form['ID']\n",
    "            return redirect(url_for('showstud'))\n",
    "    else:\n",
    "        return render_template('editstud.html', student=editedstud)\n",
    "\n",
    "\n",
    "# This will let us Delete our book\n",
    "@app.route('/student_information/<int:stud_id>/delete/', methods=['GET', 'POST'])\n",
    "def deletestud(id):\n",
    "    studtodelete = session.query(student_information).filter_by(id=id).one()\n",
    "    if (request.method == 'POST'):\n",
    "        session.delete(studtodelete)\n",
    "        session.commit()\n",
    "        return redirect(url_for('showstud', id=id))\n",
    "    else:\n",
    "        return render_template('deletestud.html', student=studtodelete)\n",
    "\n",
    "if __name__ == '__main__':\n",
    "#     app.debug = False\n",
    "    app.run()"
   ]
  },
  {
   "cell_type": "code",
   "execution_count": null,
   "metadata": {},
   "outputs": [],
   "source": []
  },
  {
   "cell_type": "code",
   "execution_count": null,
   "metadata": {},
   "outputs": [],
   "source": []
  }
 ],
 "metadata": {
  "kernelspec": {
   "display_name": "Python 3",
   "language": "python",
   "name": "python3"
  },
  "language_info": {
   "codemirror_mode": {
    "name": "ipython",
    "version": 3
   },
   "file_extension": ".py",
   "mimetype": "text/x-python",
   "name": "python",
   "nbconvert_exporter": "python",
   "pygments_lexer": "ipython3",
   "version": "3.7.6"
  }
 },
 "nbformat": 4,
 "nbformat_minor": 4
}
